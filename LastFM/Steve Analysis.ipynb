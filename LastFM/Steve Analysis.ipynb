{
 "cells": [
  {
   "cell_type": "markdown",
   "metadata": {},
   "source": [
    "#### Import dependencies"
   ]
  },
  {
   "cell_type": "code",
   "execution_count": 1,
   "metadata": {},
   "outputs": [],
   "source": [
    "#import needed libraries\n",
    "import pandas as pd\n",
    "import matplotlib.pyplot as plt\n",
    "import numpy\n",
    "import pylast\n",
    "import time\n",
    "import iso3166 as iso\n",
    "import csv"
   ]
  },
  {
   "cell_type": "markdown",
   "metadata": {},
   "source": [
    "#### Declare variables"
   ]
  },
  {
   "cell_type": "code",
   "execution_count": 2,
   "metadata": {},
   "outputs": [],
   "source": [
    "outputPath = \"../Output/\"\n",
    "artistCSV = f\"{outputPath}artist.csv\"\n",
    "countriesArtistCSV = f\"{outputPath}countriesTopArtist.csv\"\n",
    "barOutputPath = f\"{outputPath}TopArtistCountryCounts\""
   ]
  },
  {
   "cell_type": "markdown",
   "metadata": {},
   "source": [
    "#### Create Artist Dataframes and Determine Top Artist"
   ]
  },
  {
   "cell_type": "code",
   "execution_count": 3,
   "metadata": {},
   "outputs": [
    {
     "data": {
      "text/html": [
       "<div>\n",
       "<style scoped>\n",
       "    .dataframe tbody tr th:only-of-type {\n",
       "        vertical-align: middle;\n",
       "    }\n",
       "\n",
       "    .dataframe tbody tr th {\n",
       "        vertical-align: top;\n",
       "    }\n",
       "\n",
       "    .dataframe thead th {\n",
       "        text-align: right;\n",
       "    }\n",
       "</style>\n",
       "<table border=\"1\" class=\"dataframe\">\n",
       "  <thead>\n",
       "    <tr style=\"text-align: right;\">\n",
       "      <th></th>\n",
       "      <th>Unnamed: 0</th>\n",
       "      <th>name_genre</th>\n",
       "      <th>name</th>\n",
       "      <th>stats.listeners</th>\n",
       "      <th>stats.playcount</th>\n",
       "      <th>streamable</th>\n",
       "    </tr>\n",
       "  </thead>\n",
       "  <tbody>\n",
       "    <tr>\n",
       "      <th>50</th>\n",
       "      <td>0</td>\n",
       "      <td>rock</td>\n",
       "      <td>Coldplay</td>\n",
       "      <td>5817856</td>\n",
       "      <td>391846783</td>\n",
       "      <td>0</td>\n",
       "    </tr>\n",
       "  </tbody>\n",
       "</table>\n",
       "</div>"
      ],
      "text/plain": [
       "    Unnamed: 0 name_genre      name  stats.listeners  stats.playcount  \\\n",
       "50           0       rock  Coldplay          5817856        391846783   \n",
       "\n",
       "    streamable  \n",
       "50           0  "
      ]
     },
     "execution_count": 3,
     "metadata": {},
     "output_type": "execute_result"
    }
   ],
   "source": [
    "artistDF = pd.read_csv(artistCSV)\n",
    "topArtistDF = artistDF.sort_values('stats.listeners',ascending=False).head(1)\n",
    "\n",
    "topArtistDF"
   ]
  },
  {
   "cell_type": "markdown",
   "metadata": {},
   "source": [
    "#### Create Artist by Country Dataframes and determine which of those countries plays the top artist"
   ]
  },
  {
   "cell_type": "code",
   "execution_count": 4,
   "metadata": {},
   "outputs": [
    {
     "data": {
      "text/html": [
       "<div>\n",
       "<style scoped>\n",
       "    .dataframe tbody tr th:only-of-type {\n",
       "        vertical-align: middle;\n",
       "    }\n",
       "\n",
       "    .dataframe tbody tr th {\n",
       "        vertical-align: top;\n",
       "    }\n",
       "\n",
       "    .dataframe thead th {\n",
       "        text-align: right;\n",
       "    }\n",
       "</style>\n",
       "<table border=\"1\" class=\"dataframe\">\n",
       "  <thead>\n",
       "    <tr style=\"text-align: right;\">\n",
       "      <th></th>\n",
       "      <th>Artist Name</th>\n",
       "      <th>Country Counts</th>\n",
       "    </tr>\n",
       "  </thead>\n",
       "  <tbody>\n",
       "    <tr>\n",
       "      <th>173</th>\n",
       "      <td>Coldplay</td>\n",
       "      <td>169</td>\n",
       "    </tr>\n",
       "    <tr>\n",
       "      <th>736</th>\n",
       "      <td>The Weeknd</td>\n",
       "      <td>165</td>\n",
       "    </tr>\n",
       "    <tr>\n",
       "      <th>689</th>\n",
       "      <td>The Beatles</td>\n",
       "      <td>159</td>\n",
       "    </tr>\n",
       "    <tr>\n",
       "      <th>227</th>\n",
       "      <td>Ed Sheeran</td>\n",
       "      <td>158</td>\n",
       "    </tr>\n",
       "    <tr>\n",
       "      <th>646</th>\n",
       "      <td>Sia</td>\n",
       "      <td>152</td>\n",
       "    </tr>\n",
       "    <tr>\n",
       "      <th>600</th>\n",
       "      <td>Radiohead</td>\n",
       "      <td>148</td>\n",
       "    </tr>\n",
       "    <tr>\n",
       "      <th>16</th>\n",
       "      <td>Adele</td>\n",
       "      <td>147</td>\n",
       "    </tr>\n",
       "    <tr>\n",
       "      <th>611</th>\n",
       "      <td>Rihanna</td>\n",
       "      <td>147</td>\n",
       "    </tr>\n",
       "    <tr>\n",
       "      <th>489</th>\n",
       "      <td>Michael Jackson</td>\n",
       "      <td>146</td>\n",
       "    </tr>\n",
       "    <tr>\n",
       "      <th>185</th>\n",
       "      <td>Daft Punk</td>\n",
       "      <td>142</td>\n",
       "    </tr>\n",
       "    <tr>\n",
       "      <th>593</th>\n",
       "      <td>Queen</td>\n",
       "      <td>142</td>\n",
       "    </tr>\n",
       "    <tr>\n",
       "      <th>418</th>\n",
       "      <td>Lana Del Rey</td>\n",
       "      <td>139</td>\n",
       "    </tr>\n",
       "    <tr>\n",
       "      <th>189</th>\n",
       "      <td>David Bowie</td>\n",
       "      <td>135</td>\n",
       "    </tr>\n",
       "    <tr>\n",
       "      <th>607</th>\n",
       "      <td>Red Hot Chili Peppers</td>\n",
       "      <td>132</td>\n",
       "    </tr>\n",
       "    <tr>\n",
       "      <th>215</th>\n",
       "      <td>Drake</td>\n",
       "      <td>131</td>\n",
       "    </tr>\n",
       "    <tr>\n",
       "      <th>146</th>\n",
       "      <td>Calvin Harris</td>\n",
       "      <td>129</td>\n",
       "    </tr>\n",
       "    <tr>\n",
       "      <th>579</th>\n",
       "      <td>Pink Floyd</td>\n",
       "      <td>123</td>\n",
       "    </tr>\n",
       "    <tr>\n",
       "      <th>720</th>\n",
       "      <td>The Rolling Stones</td>\n",
       "      <td>120</td>\n",
       "    </tr>\n",
       "    <tr>\n",
       "      <th>238</th>\n",
       "      <td>Eminem</td>\n",
       "      <td>116</td>\n",
       "    </tr>\n",
       "    <tr>\n",
       "      <th>540</th>\n",
       "      <td>Nirvana</td>\n",
       "      <td>115</td>\n",
       "    </tr>\n",
       "  </tbody>\n",
       "</table>\n",
       "</div>"
      ],
      "text/plain": [
       "               Artist Name  Country Counts\n",
       "173               Coldplay             169\n",
       "736             The Weeknd             165\n",
       "689            The Beatles             159\n",
       "227             Ed Sheeran             158\n",
       "646                    Sia             152\n",
       "600              Radiohead             148\n",
       "16                   Adele             147\n",
       "611                Rihanna             147\n",
       "489        Michael Jackson             146\n",
       "185              Daft Punk             142\n",
       "593                  Queen             142\n",
       "418           Lana Del Rey             139\n",
       "189            David Bowie             135\n",
       "607  Red Hot Chili Peppers             132\n",
       "215                  Drake             131\n",
       "146          Calvin Harris             129\n",
       "579             Pink Floyd             123\n",
       "720     The Rolling Stones             120\n",
       "238                 Eminem             116\n",
       "540                Nirvana             115"
      ]
     },
     "execution_count": 4,
     "metadata": {},
     "output_type": "execute_result"
    }
   ],
   "source": [
    "countryArtistDF = pd.read_csv(countriesArtistCSV)\n",
    "countryFilterDF = pd.merge(countryArtistDF, artistDF, on=\"name\")\n",
    "\n",
    "groupedDF = countryFilterDF.groupby('name').agg(**{\"Country Counts\":(\"country\", \"count\")})\n",
    "groupedDF.reset_index(inplace=True)\n",
    "groupedDF = groupedDF.rename(columns = {'name':'Artist Name'})\n",
    "\n",
    "countryCountSorted = groupedDF.sort_values('Country Counts', ascending=False).head(20)\n",
    "countryCountSorted"
   ]
  },
  {
   "cell_type": "code",
   "execution_count": 5,
   "metadata": {},
   "outputs": [
    {
     "data": {
      "image/png": "[encoded data removed]",
      "text/plain": [
       "<Figure size 432x288 with 1 Axes>"
      ]
     },
     "metadata": {
      "needs_background": "light"
     },
     "output_type": "display_data"
    }
   ],
   "source": [
    "#get plot (dot) data\n",
    "dotX = countryCountSorted[\"Artist Name\"]\n",
    "dotY = countryCountSorted[\"Country Counts\"]\n",
    "\n",
    "plt.bar(dotX, dotY, color=\"purple\",)\n",
    "plt.title('Top 20 Artist by Count of Countries')\n",
    "plt.xlabel('Artist Name')\n",
    "plt.ylabel('No. of Countrires Played In')\n",
    "plt.xticks(rotation=90)\n",
    "plt.savefig(barOutputPath)\n",
    "plt.show()"
   ]
  },
  {
   "cell_type": "markdown",
   "metadata": {},
   "source": [
    "#### Get count of top 5 artist for the top 5 countries"
   ]
  },
  {
   "cell_type": "code",
   "execution_count": 21,
   "metadata": {},
   "outputs": [],
   "source": [
    "groupedCountryArtist = countryFilterDF.groupby('country').agg(**{\"total listeners\":(\"listeners\", \"sum\")\n",
    "                                                                ,\"total playcounts\":(\"stats.playcount\",\"sum\")}).reset_index()\n",
    "\n",
    "groupedCountryArtist[\"avg listeners\"] = groupedCountryArtist['total playcounts'] / groupedCountryArtist['total listeners']\n",
    "graphIT = groupedCountryArtist.sort_values('total listeners', ascending = False).head(20)\n"
   ]
  },
  {
   "cell_type": "code",
   "execution_count": 23,
   "metadata": {},
   "outputs": [
    {
     "data": {
      "image/png": "[encoded data removed]",
      "text/plain": [
       "<Figure size 432x288 with 1 Axes>"
      ]
     },
     "metadata": {
      "needs_background": "light"
     },
     "output_type": "display_data"
    }
   ],
   "source": [
    "#get plot (dot) data\n",
    "dotX = graphIT[\"country\"]\n",
    "dotY = graphIT[\"total listeners\"]\n",
    "\n",
    "plt.plot(dotX, dotY)\n",
    "plt.title('Top 20 Countries By Listener Counts')\n",
    "plt.xlabel('Country')\n",
    "plt.ylabel('No. of Listeners')\n",
    "plt.xticks(rotation=90)\n",
    "plt.show()"
   ]
  },
  {
   "cell_type": "code",
   "execution_count": null,
   "metadata": {},
   "outputs": [],
   "source": []
  }
 ],
 "metadata": {
  "kernelspec": {
   "display_name": "Python 3",
   "language": "python",
   "name": "python3"
  },
  "language_info": {
   "codemirror_mode": {
    "name": "ipython",
    "version": 3
   },
   "file_extension": ".py",
   "mimetype": "text/x-python",
   "name": "python",
   "nbconvert_exporter": "python",
   "pygments_lexer": "ipython3",
   "version": "3.8.5"
  }
 },
 "nbformat": 4,
 "nbformat_minor": 4
}
