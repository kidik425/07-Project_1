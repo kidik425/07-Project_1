{
 "cells": [
  {
   "cell_type": "code",
   "execution_count": 3,
   "metadata": {},
   "outputs": [
    {
     "output_type": "error",
     "ename": "ModuleNotFoundError",
     "evalue": "No module named 'pylast'",
     "traceback": [
      "\u001b[1;31m---------------------------------------------------------------------------\u001b[0m",
      "\u001b[1;31mModuleNotFoundError\u001b[0m                       Traceback (most recent call last)",
      "\u001b[1;32m<ipython-input-3-2d0d8f07a78b>\u001b[0m in \u001b[0;36m<module>\u001b[1;34m\u001b[0m\n\u001b[0;32m      8\u001b[0m \u001b[1;32mimport\u001b[0m \u001b[0mnumpy\u001b[0m\u001b[1;33m\u001b[0m\u001b[1;33m\u001b[0m\u001b[0m\n\u001b[0;32m      9\u001b[0m \u001b[1;32mimport\u001b[0m \u001b[0mrequests\u001b[0m \u001b[1;32mas\u001b[0m \u001b[0mreq\u001b[0m\u001b[1;33m\u001b[0m\u001b[1;33m\u001b[0m\u001b[0m\n\u001b[1;32m---> 10\u001b[1;33m \u001b[1;32mimport\u001b[0m \u001b[0mpylast\u001b[0m\u001b[1;33m\u001b[0m\u001b[1;33m\u001b[0m\u001b[0m\n\u001b[0m\u001b[0;32m     11\u001b[0m \u001b[1;32mimport\u001b[0m \u001b[0mtime\u001b[0m\u001b[1;33m\u001b[0m\u001b[1;33m\u001b[0m\u001b[0m\n\u001b[0;32m     12\u001b[0m \u001b[1;32mimport\u001b[0m \u001b[0miso3166\u001b[0m \u001b[1;32mas\u001b[0m \u001b[0miso\u001b[0m\u001b[1;33m\u001b[0m\u001b[1;33m\u001b[0m\u001b[0m\n",
      "\u001b[1;31mModuleNotFoundError\u001b[0m: No module named 'pylast'"
     ]
    }
   ],
   "source": [
    "from apiKey import lastFMKey\n",
    "from apiKey import lastFMSecret\n",
    "\n",
    "#import needed libraries\n",
    "import pandas as pd\n",
    "import matplotlib as plt\n",
    "import json\n",
    "import numpy\n",
    "import requests as req\n",
    "import pylast\n",
    "import time\n",
    "import iso3166 as iso\n",
    "\n",
    "# print(lastFMKey)\n",
    "# print(lastFMSecret)"
   ]
  },
  {
   "cell_type": "markdown",
   "metadata": {},
   "source": [
    "#### Declare vairables"
   ]
  },
  {
   "cell_type": "code",
   "execution_count": 2,
   "metadata": {},
   "outputs": [],
   "source": [
    "countryCsv = \"../Output/countries.csv\""
   ]
  },
  {
   "cell_type": "markdown",
   "metadata": {},
   "source": [
    "#### Country pull and export to csv"
   ]
  },
  {
   "cell_type": "code",
   "execution_count": 7,
   "metadata": {},
   "outputs": [],
   "source": [
    "countries = iso.countries_by_name\n",
    "countries\n",
    "\n",
    "countryName =[]\n",
    "countryApoName = []\n",
    "for country in countries:\n",
    "#     print(country)\n",
    "    countryName\n",
    "# print(num)\n",
    "\n",
    "# with open(countryCsv, mode='w') as csvFile:\n",
    "#     fieldnames = ['emp_name', 'dept', 'birth_month']\n",
    "#     writer = csv.DictWriter(csvFile, fieldnames=fieldnames)\n"
   ]
  },
  {
   "cell_type": "code",
   "execution_count": 3,
   "metadata": {},
   "outputs": [],
   "source": [
    "jsonFile = \"../Output/lastFMArtist.json\""
   ]
  },
  {
   "cell_type": "code",
   "execution_count": 9,
   "metadata": {},
   "outputs": [],
   "source": [
    "def lastfm_get(payload):\n",
    "    # define headers and URL\n",
    "    headers = {'user-agent': 'bootcamp'}\n",
    "    url = 'https://ws.audioscrobbler.com/2.0/'\n",
    "\n",
    "    # Add API key and format to the payload\n",
    "    payload['api_key'] = lastFMKey\n",
    "    payload['format'] = 'json'\n",
    "\n",
    "    response = req.get(url, headers=headers, params=payload)\n",
    "    return response"
   ]
  },
  {
   "cell_type": "code",
   "execution_count": 10,
   "metadata": {},
   "outputs": [],
   "source": [
    "def jprint(obj):\n",
    "    # create a formatted string of the Python JSON object\n",
    "    text = json.dumps(obj, sort_keys=True, indent=4)\n",
    "    print(text)"
   ]
  },
  {
   "cell_type": "markdown",
   "metadata": {},
   "source": [
    "#### Get list of top artist per country"
   ]
  },
  {
   "cell_type": "code",
   "execution_count": 32,
   "metadata": {},
   "outputs": [],
   "source": [
    "for country in countries:\n",
    "    responseTopArt = lastfm_get({\n",
    "        'method':'geo.getTopArtists',\n",
    "        'country':country,\n",
    "        'limit':'10'\n",
    "    })\n",
    "\n",
    "# jprint(r.json())"
   ]
  },
  {
   "cell_type": "code",
   "execution_count": 33,
   "metadata": {},
   "outputs": [
    {
     "data": {
      "text/html": [
       "<div>\n",
       "<style scoped>\n",
       "    .dataframe tbody tr th:only-of-type {\n",
       "        vertical-align: middle;\n",
       "    }\n",
       "\n",
       "    .dataframe tbody tr th {\n",
       "        vertical-align: top;\n",
       "    }\n",
       "\n",
       "    .dataframe thead th {\n",
       "        text-align: right;\n",
       "    }\n",
       "</style>\n",
       "<table border=\"1\" class=\"dataframe\">\n",
       "  <thead>\n",
       "    <tr style=\"text-align: right;\">\n",
       "      <th></th>\n",
       "      <th>name</th>\n",
       "      <th>listeners</th>\n",
       "      <th>mbid</th>\n",
       "      <th>url</th>\n",
       "      <th>streamable</th>\n",
       "      <th>image</th>\n",
       "    </tr>\n",
       "  </thead>\n",
       "  <tbody>\n",
       "    <tr>\n",
       "      <th>0</th>\n",
       "      <td>Radiohead</td>\n",
       "      <td>5093775</td>\n",
       "      <td>a74b1b7f-71a5-4011-9441-d0b5e4122711</td>\n",
       "      <td>https://www.last.fm/music/Radiohead</td>\n",
       "      <td>0</td>\n",
       "      <td>[{'#text': 'https://lastfm.freetls.fastly.net/...</td>\n",
       "    </tr>\n",
       "    <tr>\n",
       "      <th>1</th>\n",
       "      <td>Daft Punk</td>\n",
       "      <td>4138606</td>\n",
       "      <td>056e4f3e-d505-4dad-8ec1-d04f521cbb56</td>\n",
       "      <td>https://www.last.fm/music/Daft+Punk</td>\n",
       "      <td>0</td>\n",
       "      <td>[{'#text': 'https://lastfm.freetls.fastly.net/...</td>\n",
       "    </tr>\n",
       "    <tr>\n",
       "      <th>2</th>\n",
       "      <td>Coldplay</td>\n",
       "      <td>5815720</td>\n",
       "      <td>cc197bad-dc9c-440d-a5b5-d52ba2e14234</td>\n",
       "      <td>https://www.last.fm/music/Coldplay</td>\n",
       "      <td>0</td>\n",
       "      <td>[{'#text': 'https://lastfm.freetls.fastly.net/...</td>\n",
       "    </tr>\n",
       "    <tr>\n",
       "      <th>3</th>\n",
       "      <td>Queen</td>\n",
       "      <td>4463127</td>\n",
       "      <td>420ca290-76c5-41af-999e-564d7c71f1a7</td>\n",
       "      <td>https://www.last.fm/music/Queen</td>\n",
       "      <td>0</td>\n",
       "      <td>[{'#text': 'https://lastfm.freetls.fastly.net/...</td>\n",
       "    </tr>\n",
       "    <tr>\n",
       "      <th>4</th>\n",
       "      <td>David Bowie</td>\n",
       "      <td>3683673</td>\n",
       "      <td>5441c29d-3602-4898-b1a1-b77fa23b8e50</td>\n",
       "      <td>https://www.last.fm/music/David+Bowie</td>\n",
       "      <td>0</td>\n",
       "      <td>[{'#text': 'https://lastfm.freetls.fastly.net/...</td>\n",
       "    </tr>\n",
       "    <tr>\n",
       "      <th>5</th>\n",
       "      <td>Gorillaz</td>\n",
       "      <td>3979023</td>\n",
       "      <td>e21857d5-3256-4547-afb3-4b6ded592596</td>\n",
       "      <td>https://www.last.fm/music/Gorillaz</td>\n",
       "      <td>0</td>\n",
       "      <td>[{'#text': 'https://lastfm.freetls.fastly.net/...</td>\n",
       "    </tr>\n",
       "    <tr>\n",
       "      <th>6</th>\n",
       "      <td>Café Tacvba</td>\n",
       "      <td>384967</td>\n",
       "      <td>c2b37a39-c66a-44b2-b190-a69485ae5d95</td>\n",
       "      <td>https://www.last.fm/music/Caf%C3%A9+Tacvba</td>\n",
       "      <td>0</td>\n",
       "      <td>[{'#text': 'https://lastfm.freetls.fastly.net/...</td>\n",
       "    </tr>\n",
       "    <tr>\n",
       "      <th>7</th>\n",
       "      <td>The Beatles</td>\n",
       "      <td>4081718</td>\n",
       "      <td>b10bbbfc-cf9e-42e0-be17-e2c3e1d2600d</td>\n",
       "      <td>https://www.last.fm/music/The+Beatles</td>\n",
       "      <td>0</td>\n",
       "      <td>[{'#text': 'https://lastfm.freetls.fastly.net/...</td>\n",
       "    </tr>\n",
       "    <tr>\n",
       "      <th>8</th>\n",
       "      <td>The Strokes</td>\n",
       "      <td>3585476</td>\n",
       "      <td>f181961b-20f7-459e-89de-920ef03c7ed0</td>\n",
       "      <td>https://www.last.fm/music/The+Strokes</td>\n",
       "      <td>0</td>\n",
       "      <td>[{'#text': 'https://lastfm.freetls.fastly.net/...</td>\n",
       "    </tr>\n",
       "    <tr>\n",
       "      <th>9</th>\n",
       "      <td>Arctic Monkeys</td>\n",
       "      <td>3935596</td>\n",
       "      <td>ada7a83c-e3e1-40f1-93f9-3e73dbc9298a</td>\n",
       "      <td>https://www.last.fm/music/Arctic+Monkeys</td>\n",
       "      <td>0</td>\n",
       "      <td>[{'#text': 'https://lastfm.freetls.fastly.net/...</td>\n",
       "    </tr>\n",
       "  </tbody>\n",
       "</table>\n",
       "</div>"
      ],
      "text/plain": [
       "             name listeners                                  mbid  \\\n",
       "0       Radiohead   5093775  a74b1b7f-71a5-4011-9441-d0b5e4122711   \n",
       "1       Daft Punk   4138606  056e4f3e-d505-4dad-8ec1-d04f521cbb56   \n",
       "2        Coldplay   5815720  cc197bad-dc9c-440d-a5b5-d52ba2e14234   \n",
       "3           Queen   4463127  420ca290-76c5-41af-999e-564d7c71f1a7   \n",
       "4     David Bowie   3683673  5441c29d-3602-4898-b1a1-b77fa23b8e50   \n",
       "5        Gorillaz   3979023  e21857d5-3256-4547-afb3-4b6ded592596   \n",
       "6     Café Tacvba    384967  c2b37a39-c66a-44b2-b190-a69485ae5d95   \n",
       "7     The Beatles   4081718  b10bbbfc-cf9e-42e0-be17-e2c3e1d2600d   \n",
       "8     The Strokes   3585476  f181961b-20f7-459e-89de-920ef03c7ed0   \n",
       "9  Arctic Monkeys   3935596  ada7a83c-e3e1-40f1-93f9-3e73dbc9298a   \n",
       "\n",
       "                                          url streamable  \\\n",
       "0         https://www.last.fm/music/Radiohead          0   \n",
       "1         https://www.last.fm/music/Daft+Punk          0   \n",
       "2          https://www.last.fm/music/Coldplay          0   \n",
       "3             https://www.last.fm/music/Queen          0   \n",
       "4       https://www.last.fm/music/David+Bowie          0   \n",
       "5          https://www.last.fm/music/Gorillaz          0   \n",
       "6  https://www.last.fm/music/Caf%C3%A9+Tacvba          0   \n",
       "7       https://www.last.fm/music/The+Beatles          0   \n",
       "8       https://www.last.fm/music/The+Strokes          0   \n",
       "9    https://www.last.fm/music/Arctic+Monkeys          0   \n",
       "\n",
       "                                               image  \n",
       "0  [{'#text': 'https://lastfm.freetls.fastly.net/...  \n",
       "1  [{'#text': 'https://lastfm.freetls.fastly.net/...  \n",
       "2  [{'#text': 'https://lastfm.freetls.fastly.net/...  \n",
       "3  [{'#text': 'https://lastfm.freetls.fastly.net/...  \n",
       "4  [{'#text': 'https://lastfm.freetls.fastly.net/...  \n",
       "5  [{'#text': 'https://lastfm.freetls.fastly.net/...  \n",
       "6  [{'#text': 'https://lastfm.freetls.fastly.net/...  \n",
       "7  [{'#text': 'https://lastfm.freetls.fastly.net/...  \n",
       "8  [{'#text': 'https://lastfm.freetls.fastly.net/...  \n",
       "9  [{'#text': 'https://lastfm.freetls.fastly.net/...  "
      ]
     },
     "execution_count": 33,
     "metadata": {},
     "output_type": "execute_result"
    }
   ],
   "source": [
    "topArtJSON = responseTopArt.json()\n",
    "#topArtJSON\n",
    "   \n",
    "artistDF = pd.json_normalize(topArtJSON,[[\"topartists\",\"artist\"]])\n",
    "artistDF"
   ]
  },
  {
   "cell_type": "code",
   "execution_count": 22,
   "metadata": {},
   "outputs": [
    {
     "data": {
      "text/plain": [
       "200"
      ]
     },
     "execution_count": 22,
     "metadata": {},
     "output_type": "execute_result"
    }
   ],
   "source": [
    "responseArtist = lastfm_get({\n",
    "    'method':'artist.getInfo',\n",
    "    'artist':\"Cher\"\n",
    "    'limit':'1'\n",
    "})\n",
    "\n",
    "r.status_code\n",
    "\n",
    "# data = json.loads()\n",
    "# jprint(r.json())"
   ]
  },
  {
   "cell_type": "code",
   "execution_count": null,
   "metadata": {},
   "outputs": [],
   "source": [
    "time.sleep(1)\n",
    "# with open(jsonFile, 'w', encoding='utf-8') as f:\n",
    "#     json.dump(r.json(), f, ensure_ascii=False, indent=4)\n",
    "# jsonObject = json.load(r.json())\n",
    "# artistDF = pd.read_json(jsonFile)\n",
    "# artistDF.head()"
   ]
  }
 ],
 "metadata": {
  "kernelspec": {
   "name": "python3610jvsc74a57bd0b3d170011c39922df11dfe6356c1e8bf7818e6e795fb3a7489da71072c7e5fb6",
   "display_name": "Python 3.6.10 64-bit ('PythonData': conda)"
  },
  "language_info": {
   "codemirror_mode": {
    "name": "ipython",
    "version": 3
   },
   "file_extension": ".py",
   "mimetype": "text/x-python",
   "name": "python",
   "nbconvert_exporter": "python",
   "pygments_lexer": "ipython3",
   "version": "3.6.10"
  }
 },
 "nbformat": 4,
 "nbformat_minor": 4
}