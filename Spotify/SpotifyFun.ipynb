{
 "cells": [
  {
   "cell_type": "code",
   "execution_count": 1,
   "metadata": {},
   "outputs": [],
   "source": [
    "#import needed libraries\n",
    "import pandas\n",
    "import matplotlib\n",
    "import json\n",
    "import numpy\n",
    "import requests\n",
    "from api_key import client_id\n",
    "from api_key import client_secret\n",
    "\n",
    "#print(client_id+\" \"+client_code)\n"
   ]
  },
  {
   "cell_type": "code",
   "execution_count": 8,
   "metadata": {},
   "outputs": [],
   "source": [
    "authUrl = 'https://accounts.spotify.com/api/token'\n",
    "\n",
    "# POST\n",
    "authResponse = requests.post(authUrl, {\n",
    "    'grant_type': 'client_credentials',\n",
    "    'client_id': client_id,\n",
    "    'client_secret': client_secret,\n",
    "})\n",
    "\n",
    "# convert the response to JSON\n",
    "authResponseData = authResponse.json()\n",
    "\n",
    "# save the access token\n",
    "accessToken = authResponseData['access_token']\n",
    "\n",
    "# print(auth_response_data)\n",
    "#print(access_token)"
   ]
  },
  {
   "cell_type": "code",
   "execution_count": 9,
   "metadata": {},
   "outputs": [],
   "source": [
    "headers = {\n",
    "    'Authorization': 'Bearer {token}'.format(token=accessToken)\n",
    "}\n",
    "# print(headers)"
   ]
  },
  {
   "cell_type": "code",
   "execution_count": 27,
   "metadata": {},
   "outputs": [
    {
     "name": "stdout",
     "output_type": "stream",
     "text": [
      "{'error': {'status': 404, 'message': 'Service not found'}}\n"
     ]
    }
   ],
   "source": [
    "# base URL of all Spotify API endpoints\n",
    "searchURL = 'https://api.spotify.com/v1/'\n",
    "\n",
    "# Track ID from the URI\n",
    "trackId = '6y0igZArWVi6Iz0rj35c1Y'\n",
    "\n",
    "year = \"2018\"\n",
    "# actual GET request with proper header\n",
    "# r = requests.get(searchURL + 'audio-features/' + trackId, headers=headers)\n",
    "#r = requests.get(searchURL + 'year/' + year, headers=headers)\n",
    "r = requests.get(\"https://api.spotify.com/v1/artistInsights?artistid:7gSocE8DgBdhGoYCw3Tlug\", headers=headers)\n",
    "\n",
    "print(r.json())"
   ]
  },
  {
   "cell_type": "code",
   "execution_count": 15,
   "metadata": {},
   "outputs": [
    {
     "data": {
      "text/plain": [
       "<spotipy.client.Spotify at 0x7fe2686347c0>"
      ]
     },
     "execution_count": 15,
     "metadata": {},
     "output_type": "execute_result"
    }
   ],
   "source": [
    "import spotipy \n",
    "from spotipy.oauth2 import SpotifyClientCredentials \n",
    "\n",
    "cid =client_id\n",
    "secret = client_secret \n",
    "\n",
    "client_credentials_manager = SpotifyClientCredentials(client_id=cid, client_secret=secret) \n",
    "\n",
    "sp = spotipy.Spotify(client_credentials_manager=client_credentials_manager)\n"
   ]
  },
  {
   "cell_type": "code",
   "execution_count": 17,
   "metadata": {},
   "outputs": [],
   "source": [
    "for i in range(0,10000,50): \n",
    "    track_results = sp.search(q='year:2018', type='album', limit=50,offset=i) \n",
    "    print(track_results)\n",
    "# for i, t in enumerate(track_results['tracks']['items']):\n",
    "#     artist_name.append(t['artists'][0]['name'])\n",
    "#     track_name.append(t['name']) \n",
    "#     track_id.append(t['id']) \n",
    "#     popularity.append(t['popularity'])"
   ]
  },
  {
   "cell_type": "code",
   "execution_count": 25,
   "metadata": {},
   "outputs": [
    {
     "name": "stdout",
     "output_type": "stream",
     "text": [
      "{'genres': ['acoustic', 'afrobeat', 'alt-rock', 'alternative', 'ambient', 'anime', 'black-metal', 'bluegrass', 'blues', 'bossanova', 'brazil', 'breakbeat', 'british', 'cantopop', 'chicago-house', 'children', 'chill', 'classical', 'club', 'comedy', 'country', 'dance', 'dancehall', 'death-metal', 'deep-house', 'detroit-techno', 'disco', 'disney', 'drum-and-bass', 'dub', 'dubstep', 'edm', 'electro', 'electronic', 'emo', 'folk', 'forro', 'french', 'funk', 'garage', 'german', 'gospel', 'goth', 'grindcore', 'groove', 'grunge', 'guitar', 'happy', 'hard-rock', 'hardcore', 'hardstyle', 'heavy-metal', 'hip-hop', 'holidays', 'honky-tonk', 'house', 'idm', 'indian', 'indie', 'indie-pop', 'industrial', 'iranian', 'j-dance', 'j-idol', 'j-pop', 'j-rock', 'jazz', 'k-pop', 'kids', 'latin', 'latino', 'malay', 'mandopop', 'metal', 'metal-misc', 'metalcore', 'minimal-techno', 'movies', 'mpb', 'new-age', 'new-release', 'opera', 'pagode', 'party', 'philippines-opm', 'piano', 'pop', 'pop-film', 'post-dubstep', 'power-pop', 'progressive-house', 'psych-rock', 'punk', 'punk-rock', 'r-n-b', 'rainy-day', 'reggae', 'reggaeton', 'road-trip', 'rock', 'rock-n-roll', 'rockabilly', 'romance', 'sad', 'salsa', 'samba', 'sertanejo', 'show-tunes', 'singer-songwriter', 'ska', 'sleep', 'songwriter', 'soul', 'soundtracks', 'spanish', 'study', 'summer', 'swedish', 'synth-pop', 'tango', 'techno', 'trance', 'trip-hop', 'turkish', 'work-out', 'world-music']}\n"
     ]
    }
   ],
   "source": [
    "artist = []\n",
    "releaseDate = []\n",
    "\n",
    "trackResults = sp.search(q='genre:rock', type='track', limit=1,offset=1) \n",
    "\n",
    "#print(json.dumps(trackResults, indent=4, sort_keys=True))"
   ]
  },
  {
   "cell_type": "code",
   "execution_count": null,
   "metadata": {},
   "outputs": [],
   "source": [
    "#genre pull\n",
    "genreResults = sp.recommendation_genre_seeds()\n",
    "print(genreResults)"
   ]
  }
 ],
 "metadata": {
  "kernelspec": {
   "display_name": "Python 3",
   "language": "python",
   "name": "python3"
  },
  "language_info": {
   "codemirror_mode": {
    "name": "ipython",
    "version": 3
   },
   "file_extension": ".py",
   "mimetype": "text/x-python",
   "name": "python",
   "nbconvert_exporter": "python",
   "pygments_lexer": "ipython3",
   "version": "3.8.5"
  }
 },
 "nbformat": 4,
 "nbformat_minor": 4
}
